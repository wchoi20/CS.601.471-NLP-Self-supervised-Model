{
  "nbformat": 4,
  "nbformat_minor": 0,
  "metadata": {
    "colab": {
      "provenance": [],
      "machine_shape": "hm"
    },
    "kernelspec": {
      "name": "python3",
      "display_name": "Python 3"
    },
    "language_info": {
      "name": "python"
    },
    "gpuClass": "standard"
  },
  "cells": [
    {
      "cell_type": "code",
      "execution_count": null,
      "metadata": {
        "id": "0z0ArMT8pjgb"
      },
      "outputs": [],
      "source": [
        "!pip install datasets"
      ]
    },
    {
      "cell_type": "code",
      "source": [
        "!pip install openai"
      ],
      "metadata": {
        "id": "ckF8ob2qq5WZ"
      },
      "execution_count": null,
      "outputs": []
    },
    {
      "cell_type": "code",
      "source": [
        "from datasets import load_dataset"
      ],
      "metadata": {
        "id": "m1GT3zd7p04P"
      },
      "execution_count": null,
      "outputs": []
    },
    {
      "cell_type": "code",
      "source": [
        "import os\n",
        "import openai"
      ],
      "metadata": {
        "id": "NHccqMQ2qvqc"
      },
      "execution_count": null,
      "outputs": []
    },
    {
      "cell_type": "code",
      "source": [
        "dataset = load_dataset(\"boolq\")\n",
        "shuffled_dataset = dataset.shuffle(seed=7)"
      ],
      "metadata": {
        "id": "r0qIbP4sp6V-"
      },
      "execution_count": null,
      "outputs": []
    },
    {
      "cell_type": "code",
      "source": [
        "prompt_true = []\n",
        "prompt_false = []\n",
        "true_count = 0\n",
        "false_count = 0\n",
        "\n",
        "for i in range(len(shuffled_dataset['train'])):\n",
        "  if shuffled_dataset['train'][i]['answer'] == True and true_count < 4:\n",
        "    prompt_true.append(shuffled_dataset['train'][i])\n",
        "    true_count += 1\n",
        "  elif shuffled_dataset['train'][i]['answer'] == False and false_count < 4:\n",
        "    prompt_false.append(shuffled_dataset['train'][i])\n",
        "    false_count += 1"
      ],
      "metadata": {
        "id": "gHGhiXBwrGyb"
      },
      "execution_count": null,
      "outputs": []
    },
    {
      "cell_type": "code",
      "source": [
        "prompt = \"\"\n",
        "\n",
        "for i in range(4):\n",
        "  prompt += \"question: \" + prompt_true[i]['question'] + \"\\n\" + \"answer: \" + str(prompt_true[i]['answer']) + \"\\n\"\n",
        "  prompt += \"question: \" + prompt_false[i]['question'] + \"\\n\" + \"answer: \" + str(prompt_false[i]['answer']) + \"\\n\""
      ],
      "metadata": {
        "id": "xf7pK3BQuq2l"
      },
      "execution_count": null,
      "outputs": []
    },
    {
      "cell_type": "code",
      "source": [
        "print(prompt)"
      ],
      "metadata": {
        "colab": {
          "base_uri": "https://localhost:8080/"
        },
        "id": "2znaK2NlwCFg",
        "outputId": "0ff726f1-1b93-42c8-a990-9611f1e87d2f"
      },
      "execution_count": null,
      "outputs": [
        {
          "output_type": "stream",
          "name": "stdout",
          "text": [
            "question: can i raise a wolf as a pet\n",
            "answer: True\n",
            "question: can you buy a creme egg all year round\n",
            "answer: False\n",
            "question: did kobe bryant started his first year in the nba\n",
            "answer: True\n",
            "question: has any team not won the world series\n",
            "answer: False\n",
            "question: has any golfer won all 4 majors in 1 year\n",
            "answer: True\n",
            "question: was the quiet man filmed in black and white\n",
            "answer: False\n",
            "question: is night at the museum based on a book\n",
            "answer: True\n",
            "question: is the small intestine part of the upper gi tract\n",
            "answer: False\n",
            "\n"
          ]
        }
      ]
    },
    {
      "cell_type": "code",
      "source": [
        "validation = []\n",
        "\n",
        "for i in range(30):\n",
        "  validation.append(shuffled_dataset['validation'][i])"
      ],
      "metadata": {
        "id": "-XOPEn8188G2"
      },
      "execution_count": null,
      "outputs": []
    },
    {
      "cell_type": "code",
      "source": [
        "validation[0]"
      ],
      "metadata": {
        "colab": {
          "base_uri": "https://localhost:8080/"
        },
        "id": "XM0hHQwM-Bhi",
        "outputId": "05763962-ff13-413f-9b2a-f825c945f2fd"
      },
      "execution_count": null,
      "outputs": [
        {
          "output_type": "execute_result",
          "data": {
            "text/plain": [
              "{'question': 'do you get money for nobel peace prize',\n",
              " 'answer': True,\n",
              " 'passage': 'Between 1901 and 2017, the Nobel Prizes including the Economic Prizes were awarded 585 times to 923 people and organizations. With some receiving the Nobel Prize more than once, this makes a total of 24 organizations, and 892 individuals. The prize ceremonies take place annually in Stockholm, Sweden (with the exception of the peace prize, which is held in Oslo, Norway). Each recipient, or laureate, receives a gold medal, a diploma, and a sum of money that has been decided by the Nobel Foundation. (As of 2017, each prize is worth 9,000,000 SEK, or about US$1,110,000, €944,000, £836,000 or ₹72,693,900.) Medals made before 1980 were struck in 23 carat gold, and later in 18 carat green gold plated with a 24 carat gold coating.'}"
            ]
          },
          "metadata": {},
          "execution_count": 10
        }
      ]
    },
    {
      "cell_type": "code",
      "source": [
        "openai.api_key = \"\""
      ],
      "metadata": {
        "id": "4uCPUjqFq2zY"
      },
      "execution_count": null,
      "outputs": []
    },
    {
      "cell_type": "code",
      "source": [
        "responses = []"
      ],
      "metadata": {
        "id": "xRxpjCBowahR"
      },
      "execution_count": null,
      "outputs": []
    },
    {
      "cell_type": "code",
      "source": [
        "for v in validation:\n",
        "  response = openai.Completion.create(\n",
        "    model=\"text-davinci-003\",\n",
        "    prompt= prompt + \"question: \" + v['question'] + \"\\n\" + \"answer: \",\n",
        "    temperature=0.7,\n",
        "    max_tokens=256,\n",
        "    top_p=1,\n",
        "    frequency_penalty=0,\n",
        "    presence_penalty=0\n",
        "  )\n",
        "  responses.append(response)"
      ],
      "metadata": {
        "id": "Q3JVJ5oY-PLk"
      },
      "execution_count": null,
      "outputs": []
    },
    {
      "cell_type": "code",
      "source": [
        "correct_pair = 0\n",
        "\n",
        "for i in range(30):\n",
        "  if str(validation[i][\"answer\"]) == responses[i][\"choices\"][0][\"text\"][1:]:\n",
        "    correct_pair += 1\n",
        "\n",
        "print(f'Few-shot accuracy is', correct_pair/30)"
      ],
      "metadata": {
        "colab": {
          "base_uri": "https://localhost:8080/"
        },
        "id": "_DcEEYvbrDMB",
        "outputId": "472c03c8-d11e-4818-a73b-d4d6be28cfaa"
      },
      "execution_count": null,
      "outputs": [
        {
          "output_type": "stream",
          "name": "stdout",
          "text": [
            "Few-shot accuracy is 0.8333333333333334\n"
          ]
        }
      ]
    },
    {
      "cell_type": "markdown",
      "source": [
        "### Q5-5"
      ],
      "metadata": {
        "id": "LtklkORrBnHv"
      }
    },
    {
      "cell_type": "code",
      "source": [
        "!pip install transformers"
      ],
      "metadata": {
        "id": "O1R-srNuBzC5"
      },
      "execution_count": null,
      "outputs": []
    },
    {
      "cell_type": "code",
      "source": [
        "responses_bloomz = []\n",
        "\n",
        "prompt_bloomz = \"\"\n",
        "\n",
        "for i in range(4):\n",
        "  prompt_bloomz += \"question: \" + prompt_true[i]['question'] + \" \" + \"answer: \" + str(prompt_true[i]['answer']) + \" \"\n",
        "  prompt_bloomz += \"question: \" + prompt_false[i]['question'] + \" \" + \"answer: \" + str(prompt_false[i]['answer']) + \" \""
      ],
      "metadata": {
        "id": "FbVjOoVRGroT"
      },
      "execution_count": null,
      "outputs": []
    },
    {
      "cell_type": "code",
      "source": [
        "import requests\n",
        "\n",
        "API_URL = \"https://api-inference.huggingface.co/models/bigscience/bloomz\"\n",
        "headers = {\"Authorization\": f\"\"}\n",
        "\n",
        "def query(payload):\n",
        "\tresponse = requests.post(API_URL, headers=headers, json=payload)\n",
        "\treturn response.json()\n",
        "\t\n",
        "for v in validation:\n",
        "  tmp = prompt_bloomz + \"question: \" + v['question'] + \" \" + \"answer:\"\n",
        "  output = query({\n",
        "    \"inputs\": tmp,\n",
        "  })\n",
        "  responses_bloomz.append(output)"
      ],
      "metadata": {
        "id": "rRb_cbx1Bmkd"
      },
      "execution_count": null,
      "outputs": []
    },
    {
      "cell_type": "code",
      "source": [
        "for i in range(30):\n",
        "  print(responses_bloomz[i])"
      ],
      "metadata": {
        "colab": {
          "base_uri": "https://localhost:8080/"
        },
        "id": "axUoc-wyGutZ",
        "outputId": "fde316dd-f145-4b68-fdca-a5ac5f15a27a"
      },
      "execution_count": null,
      "outputs": [
        {
          "output_type": "stream",
          "name": "stdout",
          "text": [
            "[{'generated_text': 'question: can i raise a wolf as a pet answer: True question: can you buy a creme egg all year round answer: False question: did kobe bryant started his first year in the nba answer: True question: has any team not won the world series answer: False question: has any golfer won all 4 majors in 1 year answer: True question: was the quiet man filmed in black and white answer: False question: is night at the museum based on a book answer: True question: is the small intestine part of the upper gi tract answer: False question: do you get money for nobel peace prize answer: False'}]\n",
            "[{'generated_text': 'question: can i raise a wolf as a pet answer: True question: can you buy a creme egg all year round answer: False question: did kobe bryant started his first year in the nba answer: True question: has any team not won the world series answer: False question: has any golfer won all 4 majors in 1 year answer: True question: was the quiet man filmed in black and white answer: False question: is night at the museum based on a book answer: True question: is the small intestine part of the upper gi tract answer: False question: did bruce forsyth do the price is right answer: False'}]\n",
            "[{'generated_text': 'question: can i raise a wolf as a pet answer: True question: can you buy a creme egg all year round answer: False question: did kobe bryant started his first year in the nba answer: True question: has any team not won the world series answer: False question: has any golfer won all 4 majors in 1 year answer: True question: was the quiet man filmed in black and white answer: False question: is night at the museum based on a book answer: True question: is the small intestine part of the upper gi tract answer: False question: is guitar center and musicians friend the same company answer: False'}]\n",
            "[{'generated_text': 'question: can i raise a wolf as a pet answer: True question: can you buy a creme egg all year round answer: False question: did kobe bryant started his first year in the nba answer: True question: has any team not won the world series answer: False question: has any golfer won all 4 majors in 1 year answer: True question: was the quiet man filmed in black and white answer: False question: is night at the museum based on a book answer: True question: is the small intestine part of the upper gi tract answer: False question: are there still grammar schools in the uk answer: False'}]\n",
            "[{'generated_text': 'question: can i raise a wolf as a pet answer: True question: can you buy a creme egg all year round answer: False question: did kobe bryant started his first year in the nba answer: True question: has any team not won the world series answer: False question: has any golfer won all 4 majors in 1 year answer: True question: was the quiet man filmed in black and white answer: False question: is night at the museum based on a book answer: True question: is the small intestine part of the upper gi tract answer: False question: are residents of the us virgin islands american citizens answer: False'}]\n",
            "[{'generated_text': 'question: can i raise a wolf as a pet answer: True question: can you buy a creme egg all year round answer: False question: did kobe bryant started his first year in the nba answer: True question: has any team not won the world series answer: False question: has any golfer won all 4 majors in 1 year answer: True question: was the quiet man filmed in black and white answer: False question: is night at the museum based on a book answer: True question: is the small intestine part of the upper gi tract answer: False question: is a dogfish part of the shark family answer: False'}]\n",
            "[{'generated_text': 'question: can i raise a wolf as a pet answer: True question: can you buy a creme egg all year round answer: False question: did kobe bryant started his first year in the nba answer: True question: has any team not won the world series answer: False question: has any golfer won all 4 majors in 1 year answer: True question: was the quiet man filmed in black and white answer: False question: is night at the museum based on a book answer: True question: is the small intestine part of the upper gi tract answer: False question: has anyone climbed the north face of everest answer: False'}]\n",
            "[{'generated_text': 'question: can i raise a wolf as a pet answer: True question: can you buy a creme egg all year round answer: False question: did kobe bryant started his first year in the nba answer: True question: has any team not won the world series answer: False question: has any golfer won all 4 majors in 1 year answer: True question: was the quiet man filmed in black and white answer: False question: is night at the museum based on a book answer: True question: is the small intestine part of the upper gi tract answer: False question: did they use bayonets in the civil war answer: False'}]\n",
            "[{'generated_text': 'question: can i raise a wolf as a pet answer: True question: can you buy a creme egg all year round answer: False question: did kobe bryant started his first year in the nba answer: True question: has any team not won the world series answer: False question: has any golfer won all 4 majors in 1 year answer: True question: was the quiet man filmed in black and white answer: False question: is night at the museum based on a book answer: True question: is the small intestine part of the upper gi tract answer: False question: are fear the walking dead and the walking dead related answer: False'}]\n",
            "[{'generated_text': 'question: can i raise a wolf as a pet answer: True question: can you buy a creme egg all year round answer: False question: did kobe bryant started his first year in the nba answer: True question: has any team not won the world series answer: False question: has any golfer won all 4 majors in 1 year answer: True question: was the quiet man filmed in black and white answer: False question: is night at the museum based on a book answer: True question: is the small intestine part of the upper gi tract answer: False question: is there a gmc version of the avalanche answer: False'}]\n",
            "[{'generated_text': 'question: can i raise a wolf as a pet answer: True question: can you buy a creme egg all year round answer: False question: did kobe bryant started his first year in the nba answer: True question: has any team not won the world series answer: False question: has any golfer won all 4 majors in 1 year answer: True question: was the quiet man filmed in black and white answer: False question: is night at the museum based on a book answer: True question: is the small intestine part of the upper gi tract answer: False question: is all of europe in the same time zone answer: False'}]\n",
            "[{'generated_text': 'question: can i raise a wolf as a pet answer: True question: can you buy a creme egg all year round answer: False question: did kobe bryant started his first year in the nba answer: True question: has any team not won the world series answer: False question: has any golfer won all 4 majors in 1 year answer: True question: was the quiet man filmed in black and white answer: False question: is night at the museum based on a book answer: True question: is the small intestine part of the upper gi tract answer: False question: is war room movie based on a true story answer: False'}]\n",
            "[{'generated_text': 'question: can i raise a wolf as a pet answer: True question: can you buy a creme egg all year round answer: False question: did kobe bryant started his first year in the nba answer: True question: has any team not won the world series answer: False question: has any golfer won all 4 majors in 1 year answer: True question: was the quiet man filmed in black and white answer: False question: is night at the museum based on a book answer: True question: is the small intestine part of the upper gi tract answer: False question: does pokemon crystal work with pokemon stadium 2 answer: False'}]\n",
            "[{'generated_text': 'question: can i raise a wolf as a pet answer: True question: can you buy a creme egg all year round answer: False question: did kobe bryant started his first year in the nba answer: True question: has any team not won the world series answer: False question: has any golfer won all 4 majors in 1 year answer: True question: was the quiet man filmed in black and white answer: False question: is night at the museum based on a book answer: True question: is the small intestine part of the upper gi tract answer: False question: are mazda tribute and ford escape the same answer: False'}]\n",
            "[{'generated_text': 'question: can i raise a wolf as a pet answer: True question: can you buy a creme egg all year round answer: False question: did kobe bryant started his first year in the nba answer: True question: has any team not won the world series answer: False question: has any golfer won all 4 majors in 1 year answer: True question: was the quiet man filmed in black and white answer: False question: is night at the museum based on a book answer: True question: is the small intestine part of the upper gi tract answer: False question: can atoms be changed from one element to another answer: False'}]\n",
            "[{'generated_text': 'question: can i raise a wolf as a pet answer: True question: can you buy a creme egg all year round answer: False question: did kobe bryant started his first year in the nba answer: True question: has any team not won the world series answer: False question: has any golfer won all 4 majors in 1 year answer: True question: was the quiet man filmed in black and white answer: False question: is night at the museum based on a book answer: True question: is the small intestine part of the upper gi tract answer: False question: will there be another now you see me movie answer: False'}]\n",
            "[{'generated_text': 'question: can i raise a wolf as a pet answer: True question: can you buy a creme egg all year round answer: False question: did kobe bryant started his first year in the nba answer: True question: has any team not won the world series answer: False question: has any golfer won all 4 majors in 1 year answer: True question: was the quiet man filmed in black and white answer: False question: is night at the museum based on a book answer: True question: is the small intestine part of the upper gi tract answer: False question: is one life to live still on tv answer: False'}]\n",
            "[{'generated_text': 'question: can i raise a wolf as a pet answer: True question: can you buy a creme egg all year round answer: False question: did kobe bryant started his first year in the nba answer: True question: has any team not won the world series answer: False question: has any golfer won all 4 majors in 1 year answer: True question: was the quiet man filmed in black and white answer: False question: is night at the museum based on a book answer: True question: is the small intestine part of the upper gi tract answer: False question: is the movie roman j israel based on a true story answer: False'}]\n",
            "[{'generated_text': 'question: can i raise a wolf as a pet answer: True question: can you buy a creme egg all year round answer: False question: did kobe bryant started his first year in the nba answer: True question: has any team not won the world series answer: False question: has any golfer won all 4 majors in 1 year answer: True question: was the quiet man filmed in black and white answer: False question: is night at the museum based on a book answer: True question: is the small intestine part of the upper gi tract answer: False question: is free market and market economy the same answer: False'}]\n",
            "[{'generated_text': 'question: can i raise a wolf as a pet answer: True question: can you buy a creme egg all year round answer: False question: did kobe bryant started his first year in the nba answer: True question: has any team not won the world series answer: False question: has any golfer won all 4 majors in 1 year answer: True question: was the quiet man filmed in black and white answer: False question: is night at the museum based on a book answer: True question: is the small intestine part of the upper gi tract answer: False question: has texas a&m ever won a national championship answer: False'}]\n",
            "[{'generated_text': 'question: can i raise a wolf as a pet answer: True question: can you buy a creme egg all year round answer: False question: did kobe bryant started his first year in the nba answer: True question: has any team not won the world series answer: False question: has any golfer won all 4 majors in 1 year answer: True question: was the quiet man filmed in black and white answer: False question: is night at the museum based on a book answer: True question: is the small intestine part of the upper gi tract answer: False question: do alligators drown their prey and eat it later answer: False'}]\n",
            "[{'generated_text': 'question: can i raise a wolf as a pet answer: True question: can you buy a creme egg all year round answer: False question: did kobe bryant started his first year in the nba answer: True question: has any team not won the world series answer: False question: has any golfer won all 4 majors in 1 year answer: True question: was the quiet man filmed in black and white answer: False question: is night at the museum based on a book answer: True question: is the small intestine part of the upper gi tract answer: False question: is the dominican republic a part of mexico answer: False'}]\n",
            "[{'generated_text': 'question: can i raise a wolf as a pet answer: True question: can you buy a creme egg all year round answer: False question: did kobe bryant started his first year in the nba answer: True question: has any team not won the world series answer: False question: has any golfer won all 4 majors in 1 year answer: True question: was the quiet man filmed in black and white answer: False question: is night at the museum based on a book answer: True question: is the small intestine part of the upper gi tract answer: False question: does the british monarchy have any power in canada answer: False'}]\n",
            "[{'generated_text': 'question: can i raise a wolf as a pet answer: True question: can you buy a creme egg all year round answer: False question: did kobe bryant started his first year in the nba answer: True question: has any team not won the world series answer: False question: has any golfer won all 4 majors in 1 year answer: True question: was the quiet man filmed in black and white answer: False question: is night at the museum based on a book answer: True question: is the small intestine part of the upper gi tract answer: False question: is bachelor of laws the same as llb answer: False'}]\n",
            "[{'generated_text': 'question: can i raise a wolf as a pet answer: True question: can you buy a creme egg all year round answer: False question: did kobe bryant started his first year in the nba answer: True question: has any team not won the world series answer: False question: has any golfer won all 4 majors in 1 year answer: True question: was the quiet man filmed in black and white answer: False question: is night at the museum based on a book answer: True question: is the small intestine part of the upper gi tract answer: False question: can we have more than 9 supreme court justices answer: False'}]\n",
            "[{'generated_text': 'question: can i raise a wolf as a pet answer: True question: can you buy a creme egg all year round answer: False question: did kobe bryant started his first year in the nba answer: True question: has any team not won the world series answer: False question: has any golfer won all 4 majors in 1 year answer: True question: was the quiet man filmed in black and white answer: False question: is night at the museum based on a book answer: True question: is the small intestine part of the upper gi tract answer: False question: did they change the sister in that 70s show answer: False'}]\n",
            "[{'generated_text': 'question: can i raise a wolf as a pet answer: True question: can you buy a creme egg all year round answer: False question: did kobe bryant started his first year in the nba answer: True question: has any team not won the world series answer: False question: has any golfer won all 4 majors in 1 year answer: True question: was the quiet man filmed in black and white answer: False question: is night at the museum based on a book answer: True question: is the small intestine part of the upper gi tract answer: False question: has belgium ever been in world cup final answer: False'}]\n",
            "[{'generated_text': 'question: can i raise a wolf as a pet answer: True question: can you buy a creme egg all year round answer: False question: did kobe bryant started his first year in the nba answer: True question: has any team not won the world series answer: False question: has any golfer won all 4 majors in 1 year answer: True question: was the quiet man filmed in black and white answer: False question: is night at the museum based on a book answer: True question: is the small intestine part of the upper gi tract answer: False question: is a brother in law considered a relative answer: True'}]\n",
            "[{'generated_text': 'question: can i raise a wolf as a pet answer: True question: can you buy a creme egg all year round answer: False question: did kobe bryant started his first year in the nba answer: True question: has any team not won the world series answer: False question: has any golfer won all 4 majors in 1 year answer: True question: was the quiet man filmed in black and white answer: False question: is night at the museum based on a book answer: True question: is the small intestine part of the upper gi tract answer: False question: can you travel within the eu with an id card answer: False'}]\n",
            "[{'generated_text': 'question: can i raise a wolf as a pet answer: True question: can you buy a creme egg all year round answer: False question: did kobe bryant started his first year in the nba answer: True question: has any team not won the world series answer: False question: has any golfer won all 4 majors in 1 year answer: True question: was the quiet man filmed in black and white answer: False question: is night at the museum based on a book answer: True question: is the small intestine part of the upper gi tract answer: False question: does the new mama mia have abba music answer: False'}]\n"
          ]
        }
      ]
    },
    {
      "cell_type": "code",
      "source": [
        "correct_pair_bloomz= 0\n",
        "\n",
        "for i in range(30):\n",
        "  if str(validation[i][\"answer\"]) == responses_bloomz[i][0]['generated_text'][-5:] or str(validation[i][\"answer\"]) == responses_bloomz[i][0]['generated_text'][-4:]:\n",
        "    correct_pair_bloomz += 1\n",
        "\n",
        "print(f'Few-shot accuracy is', correct_pair_bloomz/30)"
      ],
      "metadata": {
        "colab": {
          "base_uri": "https://localhost:8080/"
        },
        "id": "ZPqtcGcaHXjt",
        "outputId": "7e777bf8-df91-4d9f-9ce5-5157f3e8334d"
      },
      "execution_count": 30,
      "outputs": [
        {
          "output_type": "stream",
          "name": "stdout",
          "text": [
            "Few-shot accuracy is 0.3\n"
          ]
        }
      ]
    }
  ]
}