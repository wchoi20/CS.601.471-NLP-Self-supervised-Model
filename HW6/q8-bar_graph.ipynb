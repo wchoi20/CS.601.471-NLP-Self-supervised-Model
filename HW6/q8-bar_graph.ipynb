{
 "cells": [
  {
   "cell_type": "code",
   "execution_count": 37,
   "id": "afb70c61-6694-462a-a2a5-345c29cae838",
   "metadata": {},
   "outputs": [],
   "source": [
    "import numpy as np\n",
    "import matplotlib as plt\n",
    "import pandas as pd"
   ]
  },
  {
   "cell_type": "code",
   "execution_count": 38,
   "id": "aa68cf0f-ef58-43ab-bce7-70d06a519d67",
   "metadata": {},
   "outputs": [],
   "source": [
    "lst = [['BERT_base_uncased_1e3_5', 0.6217125382262997, 0.6180798878766643],\n",
    "['BERT_base_uncased_1e3_7', 0.6217125382262997, 0.6334968465311843],\n",
    "['BERT_base_uncased_1e3_9', 0.6217125382262997, 0.6145760336370008],\n",
    "['BERT_base_uncased_1e4_5', 0.6938837920489297, 0.6923615977575333],\n",
    "['BERT_base_uncased_1e4_7', 0.7091743119266055, 0.7126839523475823],\n",
    "['BERT_base_uncased_1e4_9', 0.6987767584097859, 0.6741415557112824],\n",
    "['BERT_base_uncased_5e4_5', 0.6217125382262997, 0.6489138051857043],\n",
    "['BERT_base_uncased_5e4_7', 0.6217125382262997, 0.6201822004204625],\n",
    "['BERT_base_uncased_5e4_9', 0.6217125382262997, 0.6217125382262997],\n",
    "['RoBERTa_base_1e3_5', 0.6217125382262997, 0.6306937631394534],\n",
    "['RoBERTa_base_1e3_7', 0.6217125382262997, 0.6517168885774351],\n",
    "['RoBERTa_base_1e3_9', 0.6217125382262997, 0.6257883672039243],\n",
    "['RoBERTa_base_1e4_5', 0.6217125382262997, 0.6103714085494043],\n",
    "['RoBERTa_base_1e4_7', 0.6217125382262997, 0.6096706377014717],\n",
    "['RoBERTa_base_1e4_9', 0.6217125382262997, 0.6229852838121934],\n",
    "['RoBERTa_base_5e4_5', 0.6217125382262997, 0.6250875963559915],\n",
    "['RoBERTa_base_5e4_7', 0.6217125382262997, 0.6320953048353188],\n",
    "['RoBERTa_base_5e4_9', 0.6217125382262997, 0.6391030133146461]]\n",
    "\n",
    "df = pd.DataFrame(lst, columns=['model', 'dev_acc', 'train_acc'])"
   ]
  },
  {
   "cell_type": "code",
   "execution_count": null,
   "id": "1f4c803f",
   "metadata": {},
   "outputs": [
    {
     "ename": "SyntaxError",
     "evalue": "unexpected EOF while parsing (4216231014.py, line 1)",
     "output_type": "error",
     "traceback": [
      "\u001b[0;36m  Cell \u001b[0;32mIn[32], line 1\u001b[0;36m\u001b[0m\n\u001b[0;31m    ax = df.plot.barh(x='model', rot=0, ylim=(0.5, 1)\u001b[0m\n\u001b[0m                                                     ^\u001b[0m\n\u001b[0;31mSyntaxError\u001b[0m\u001b[0;31m:\u001b[0m unexpected EOF while parsing\n"
     ]
    }
   ],
   "source": [
    "ax = df.plot.barh(x='model', rot=0, ylim=(0.5, 1)\n"
   ]
  }
 ],
 "metadata": {
  "kernelspec": {
   "display_name": "Python 3 (ipykernel)",
   "language": "python",
   "name": "python3"
  },
  "language_info": {
   "codemirror_mode": {
    "name": "ipython",
    "version": 3
   },
   "file_extension": ".py",
   "mimetype": "text/x-python",
   "name": "python",
   "nbconvert_exporter": "python",
   "pygments_lexer": "ipython3",
   "version": "3.9.16"
  }
 },
 "nbformat": 4,
 "nbformat_minor": 5
}
